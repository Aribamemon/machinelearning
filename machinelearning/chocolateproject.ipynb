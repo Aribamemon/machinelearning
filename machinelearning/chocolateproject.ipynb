{
  "cells": [
    {
      "cell_type": "code",
      "execution_count": null,
      "id": "94afd079",
      "metadata": {
        "id": "94afd079",
        "outputId": "9dddf783-d62c-4538-cced-2d785d911be1"
      },
      "outputs": [
        {
          "data": {
            "text/html": [
              "<div>\n",
              "<style scoped>\n",
              "    .dataframe tbody tr th:only-of-type {\n",
              "        vertical-align: middle;\n",
              "    }\n",
              "\n",
              "    .dataframe tbody tr th {\n",
              "        vertical-align: top;\n",
              "    }\n",
              "\n",
              "    .dataframe thead th {\n",
              "        text-align: right;\n",
              "    }\n",
              "</style>\n",
              "<table border=\"1\" class=\"dataframe\">\n",
              "  <thead>\n",
              "    <tr style=\"text-align: right;\">\n",
              "      <th></th>\n",
              "      <th>Sales Person</th>\n",
              "      <th>Country</th>\n",
              "      <th>Product</th>\n",
              "      <th>Date</th>\n",
              "      <th>Amount</th>\n",
              "      <th>Boxes Shipped</th>\n",
              "    </tr>\n",
              "  </thead>\n",
              "  <tbody>\n",
              "    <tr>\n",
              "      <th>0</th>\n",
              "      <td>Jehu Rudeforth</td>\n",
              "      <td>UK</td>\n",
              "      <td>Mint Chip Choco</td>\n",
              "      <td>04-Jan-22</td>\n",
              "      <td>$5,320</td>\n",
              "      <td>180</td>\n",
              "    </tr>\n",
              "    <tr>\n",
              "      <th>1</th>\n",
              "      <td>Van Tuxwell</td>\n",
              "      <td>India</td>\n",
              "      <td>85% Dark Bars</td>\n",
              "      <td>01-Aug-22</td>\n",
              "      <td>$7,896</td>\n",
              "      <td>94</td>\n",
              "    </tr>\n",
              "    <tr>\n",
              "      <th>2</th>\n",
              "      <td>Gigi Bohling</td>\n",
              "      <td>India</td>\n",
              "      <td>Peanut Butter Cubes</td>\n",
              "      <td>07-Jul-22</td>\n",
              "      <td>$4,501</td>\n",
              "      <td>91</td>\n",
              "    </tr>\n",
              "    <tr>\n",
              "      <th>3</th>\n",
              "      <td>Jan Morforth</td>\n",
              "      <td>Australia</td>\n",
              "      <td>Peanut Butter Cubes</td>\n",
              "      <td>27-Apr-22</td>\n",
              "      <td>$12,726</td>\n",
              "      <td>342</td>\n",
              "    </tr>\n",
              "    <tr>\n",
              "      <th>4</th>\n",
              "      <td>Jehu Rudeforth</td>\n",
              "      <td>UK</td>\n",
              "      <td>Peanut Butter Cubes</td>\n",
              "      <td>24-Feb-22</td>\n",
              "      <td>$13,685</td>\n",
              "      <td>184</td>\n",
              "    </tr>\n",
              "  </tbody>\n",
              "</table>\n",
              "</div>"
            ],
            "text/plain": [
              "     Sales Person    Country              Product       Date    Amount  \\\n",
              "0  Jehu Rudeforth         UK      Mint Chip Choco  04-Jan-22   $5,320    \n",
              "1     Van Tuxwell      India        85% Dark Bars  01-Aug-22   $7,896    \n",
              "2    Gigi Bohling      India  Peanut Butter Cubes  07-Jul-22   $4,501    \n",
              "3    Jan Morforth  Australia  Peanut Butter Cubes  27-Apr-22  $12,726    \n",
              "4  Jehu Rudeforth         UK  Peanut Butter Cubes  24-Feb-22  $13,685    \n",
              "\n",
              "   Boxes Shipped  \n",
              "0            180  \n",
              "1             94  \n",
              "2             91  \n",
              "3            342  \n",
              "4            184  "
            ]
          },
          "execution_count": 1,
          "metadata": {},
          "output_type": "execute_result"
        }
      ],
      "source": [
        "import pandas as pd\n",
        "df = pd.read_csv(\"Chocolate Sales.csv\")\n",
        "df.head()\n"
      ]
    },
    {
      "cell_type": "code",
      "execution_count": null,
      "id": "a331e528",
      "metadata": {
        "id": "a331e528",
        "outputId": "baf72f89-3a2c-4b3a-ee4c-92f1b601c627"
      },
      "outputs": [
        {
          "data": {
            "text/plain": [
              "Sales Person\n",
              "Andria Kimpton         $2,163 $2,653 $6,307 $4,438 $1,603 $959 $14,50...\n",
              "Barr Faughny           $3,703 $15,421 $9,282 $9,058 $8,113 $581 $2,10...\n",
              "Beverie Moffet         $6,790 $8,799 $14,798 $1,827 $7,126 $6,475 $6,...\n",
              "Brien Boise            $2,835 $6,888 $8,575 $16,793 $63 $8,106 $1,015...\n",
              "Camilla Castle         $3,654 $9,275 $1,274 $9,681 $6,048 $9,982 $1,1...\n",
              "Ches Bonnell           $3,556 $10,906 $5,663 $4,116 $1,043 $14,238 $9...\n",
              "Curtice Advani         $1,085 $6,979 $5,243 $4,865 $854 $854 $3,472 $...\n",
              "Dennison Crosswaite    $9,492 $5,061 $5,859 $6,881 $6,188 $5,740 $2,7...\n",
              "Dotty Strutley         $91 $280 $16,114 $273 $9,310 $3,108 $1,267 $6,...\n",
              "Gigi Bohling           $4,501 $12,313 $5,642 $1,505 $10,976 $8,267 $8...\n",
              "Gunar Cockshoot        $3,080 $1,267 $6,013 $3,752 $6,762 $602 $2,058...\n",
              "Husein Augar           $3,003 $4,025 $11,571 $4,697 $8,897 $497 $4,33...\n",
              "Jan Morforth           $12,726 $9,037 $1,939 $4,466 $2,541 $3,472 $3,...\n",
              "Jehu Rudeforth         $5,320 $13,685 $3,990 $441 $2,800 $1,848 $5,46...\n",
              "Kaine Padly            $7,672 $6,790 $2,765 $2,282 $3,269 $4,018 $5,4...\n",
              "Karlen McCaffrey       $168 $168 $6,839 $2,443 $14,749 $6,090 $11,095...\n",
              "Kelci Walkden          $147 $938 $3,073 $13,006 $5,334 $9,408 $5,929 ...\n",
              "Madelene Upcott        $7,602 $7,182 $4,221 $5,579 $10,927 $4,571 $8,...\n",
              "Mallorie Waber         $1,442 $4,781 $2,779 $9,436 $1,428 $3,171 $5,0...\n",
              "Marney O'Breen         $8,379 $4,753 $2,205 $273 $7,595 $1,064 $4,151...\n",
              "Oby Sorrel             $13,685 $10,255 $6,181 $6,832 $3,605 $10,101 $...\n",
              "Rafaelita Blaksland    $4,704 $12,446 $11,550 $2,093 $13,083 $8,064 $...\n",
              "Roddy Speechley        $3,017 $1,652 $9,583 $4,382 $609 $8,001 $4,032...\n",
              "Van Tuxwell            $7,896 $5,376 $4,067 $1,722 $9,737 $19,453 $2,...\n",
              "Wilone O'Kielt         $4,284 $2,030 $1,743 $623 $392 $1,827 $3,325 $...\n",
              "Name: Amount, dtype: object"
            ]
          },
          "execution_count": 2,
          "metadata": {},
          "output_type": "execute_result"
        }
      ],
      "source": [
        "df.groupby(\"Sales Person\")[\"Amount\"].sum()\n"
      ]
    },
    {
      "cell_type": "code",
      "execution_count": null,
      "id": "e777d4bd",
      "metadata": {
        "id": "e777d4bd",
        "outputId": "0b6dd581-2f94-44d7-f3b5-355cdfda3f35"
      },
      "outputs": [
        {
          "name": "stdout",
          "output_type": "stream",
          "text": [
            "Country\n",
            "Australia     NaN\n",
            "Canada        NaN\n",
            "India         NaN\n",
            "New Zealand   NaN\n",
            "UK            NaN\n",
            "USA           NaN\n",
            "Name: Amount, dtype: float64\n"
          ]
        }
      ],
      "source": [
        "import pandas as pd\n",
        "\n",
        "df = pd.read_csv(\"Chocolate Sales.csv\")\n",
        "df[\"Amount\"] = pd.to_numeric(df[\"Amount\"], errors='coerce')\n",
        "\n",
        "total = df[\"Amount\"].sum()\n",
        "country_revenue = df.groupby(\"Country\")[\"Amount\"].sum()\n",
        "country_percentage = (country_revenue / total) * 100\n",
        "\n",
        "print(country_percentage)\n"
      ]
    },
    {
      "cell_type": "code",
      "execution_count": null,
      "id": "210e45fb",
      "metadata": {
        "id": "210e45fb",
        "outputId": "4abe9b28-a8ea-42bf-daa0-d2a34b6e04e8"
      },
      "outputs": [
        {
          "data": {
            "text/plain": [
              "Product\n",
              "50% Dark Bites          60\n",
              "Eclairs                 60\n",
              "Smooth Sliky Salty      59\n",
              "White Choc              58\n",
              "Drinking Coco           56\n",
              "Spicy Special Slims     54\n",
              "Organic Choco Syrup     52\n",
              "After Nines             50\n",
              "85% Dark Bars           50\n",
              "Fruit & Nut Bars        50\n",
              "Milk Bars               49\n",
              "Peanut Butter Cubes     49\n",
              "99% Dark & Pure         49\n",
              "Almond Choco            48\n",
              "Raspberry Choco         48\n",
              "Orange Choco            47\n",
              "Mint Chip Choco         45\n",
              "Manuka Honey Choco      45\n",
              "Caramel Stuffed Bars    43\n",
              "70% Dark Bites          42\n",
              "Baker's Choco Chips     41\n",
              "Choco Coated Almonds    39\n",
              "Name: count, dtype: int64"
            ]
          },
          "execution_count": 3,
          "metadata": {},
          "output_type": "execute_result"
        }
      ],
      "source": [
        "df[\"Product\"].nunique()\n",
        "df[\"Product\"].value_counts()\n"
      ]
    },
    {
      "cell_type": "code",
      "execution_count": null,
      "id": "24a7f885",
      "metadata": {
        "id": "24a7f885",
        "outputId": "56c1eed8-fb00-4784-f9d3-552f0bd1c9f5"
      },
      "outputs": [
        {
          "name": "stdout",
          "output_type": "stream",
          "text": [
            "Top Performing Salesperson:\n",
            "                                                         Total Revenue  \\\n",
            "Sales Person                                                             \n",
            "Dotty Strutley       $91 $280 $16,114 $273 $9,310 $3,108 $1,267 $6,...   \n",
            "Dennison Crosswaite  $9,492 $5,061 $5,859 $6,881 $6,188 $5,740 $2,7...   \n",
            "Marney O'Breen       $8,379 $4,753 $2,205 $273 $7,595 $1,064 $4,151...   \n",
            "Van Tuxwell          $7,896 $5,376 $4,067 $1,722 $9,737 $19,453 $2,...   \n",
            "Kaine Padly          $7,672 $6,790 $2,765 $2,282 $3,269 $4,018 $5,4...   \n",
            "Madelene Upcott      $7,602 $7,182 $4,221 $5,579 $10,927 $4,571 $8,...   \n",
            "Beverie Moffet       $6,790 $8,799 $14,798 $1,827 $7,126 $6,475 $6,...   \n",
            "Jehu Rudeforth       $5,320 $13,685 $3,990 $441 $2,800 $1,848 $5,46...   \n",
            "Rafaelita Blaksland  $4,704 $12,446 $11,550 $2,093 $13,083 $8,064 $...   \n",
            "Gigi Bohling         $4,501 $12,313 $5,642 $1,505 $10,976 $8,267 $8...   \n",
            "Wilone O'Kielt       $4,284 $2,030 $1,743 $623 $392 $1,827 $3,325 $...   \n",
            "Barr Faughny         $3,703 $15,421 $9,282 $9,058 $8,113 $581 $2,10...   \n",
            "Camilla Castle       $3,654 $9,275 $1,274 $9,681 $6,048 $9,982 $1,1...   \n",
            "Ches Bonnell         $3,556 $10,906 $5,663 $4,116 $1,043 $14,238 $9...   \n",
            "Gunar Cockshoot      $3,080 $1,267 $6,013 $3,752 $6,762 $602 $2,058...   \n",
            "Roddy Speechley      $3,017 $1,652 $9,583 $4,382 $609 $8,001 $4,032...   \n",
            "Husein Augar         $3,003 $4,025 $11,571 $4,697 $8,897 $497 $4,33...   \n",
            "Brien Boise          $2,835 $6,888 $8,575 $16,793 $63 $8,106 $1,015...   \n",
            "Andria Kimpton       $2,163 $2,653 $6,307 $4,438 $1,603 $959 $14,50...   \n",
            "Karlen McCaffrey     $168 $168 $6,839 $2,443 $14,749 $6,090 $11,095...   \n",
            "Kelci Walkden        $147 $938 $3,073 $13,006 $5,334 $9,408 $5,929 ...   \n",
            "Oby Sorrel           $13,685 $10,255 $6,181 $6,832 $3,605 $10,101 $...   \n",
            "Jan Morforth         $12,726 $9,037 $1,939 $4,466 $2,541 $3,472 $3,...   \n",
            "Mallorie Waber       $1,442 $4,781 $2,779 $9,436 $1,428 $3,171 $5,0...   \n",
            "Curtice Advani       $1,085 $6,979 $5,243 $4,865 $854 $854 $3,472 $...   \n",
            "\n",
            "                     Boxes Shipped  \n",
            "Sales Person                        \n",
            "Dotty Strutley                6853  \n",
            "Dennison Crosswaite           8767  \n",
            "Marney O'Breen                8043  \n",
            "Van Tuxwell                   6799  \n",
            "Kaine Padly                   7253  \n",
            "Madelene Upcott               7279  \n",
            "Beverie Moffet                9214  \n",
            "Jehu Rudeforth                7246  \n",
            "Rafaelita Blaksland           4297  \n",
            "Gigi Bohling                  6303  \n",
            "Wilone O'Kielt                4033  \n",
            "Barr Faughny                  6366  \n",
            "Camilla Castle                5374  \n",
            "Ches Bonnell                  7522  \n",
            "Gunar Cockshoot               6677  \n",
            "Roddy Speechley               6899  \n",
            "Husein Augar                  5849  \n",
            "Brien Boise                   8102  \n",
            "Andria Kimpton                6448  \n",
            "Karlen McCaffrey              9658  \n",
            "Kelci Walkden                 8702  \n",
            "Oby Sorrel                    8608  \n",
            "Jan Morforth                  7661  \n",
            "Mallorie Waber                5980  \n",
            "Curtice Advani                7074  \n"
          ]
        }
      ],
      "source": [
        "import pandas as pd\n",
        "\n",
        "\n",
        "df = pd.read_csv(\"Chocolate Sales.csv\")\n",
        "\n",
        "\n",
        "df[\"Date\"] = df[\"Date\"].str.split(\" - \").str[0]\n",
        "df[\"Date\"] = pd.to_datetime(df[\"Date\"], format=\"%m/%d/%Y\", errors=\"coerce\")\n",
        "\n",
        "\n",
        "\n",
        "revenue_by_salesperson = df.groupby(\"Sales Person\")[\"Amount\"].sum()\n",
        "boxes_by_salesperson = df.groupby(\"Sales Person\")[\"Boxes Shipped\"].sum()\n",
        "\n",
        "top_sales_df = pd.DataFrame({\n",
        "    \"Total Revenue\": revenue_by_salesperson,\n",
        "    \"Boxes Shipped\": boxes_by_salesperson\n",
        "}).sort_values(by=\"Total Revenue\", ascending=False)\n",
        "\n",
        "print(\"Top Performing Salesperson:\")\n",
        "print(top_sales_df)\n",
        "\n"
      ]
    },
    {
      "cell_type": "code",
      "execution_count": null,
      "id": "a7400fcc",
      "metadata": {
        "id": "a7400fcc",
        "outputId": "5293d15d-9990-4a98-bbbb-7af2e615cd8f"
      },
      "outputs": [
        {
          "name": "stdout",
          "output_type": "stream",
          "text": [
            "Country-wise Revenue Contribution:\n",
            "Country\n",
            "Australia      0.0\n",
            "Canada         0.0\n",
            "India          0.0\n",
            "New Zealand    0.0\n",
            "UK             0.0\n",
            "USA            0.0\n",
            "Name: Amount, dtype: float64\n",
            "\n",
            "Revenue Percentage:\n",
            "Country\n",
            "Australia     NaN\n",
            "Canada        NaN\n",
            "India         NaN\n",
            "New Zealand   NaN\n",
            "UK            NaN\n",
            "USA           NaN\n",
            "Name: Amount, dtype: float64\n"
          ]
        }
      ],
      "source": [
        "\n",
        "df[\"Amount\"] = pd.to_numeric(df[\"Amount\"], errors=\"coerce\")\n",
        "revenue_by_country = df.groupby(\"Country\")[\"Amount\"].sum().sort_values(ascending=False)\n",
        "country_percent = (revenue_by_country / revenue_by_country.sum()) * 100\n",
        "print(\"Country-wise Revenue Contribution:\")\n",
        "print(revenue_by_country)\n",
        "print(\"\\nRevenue Percentage:\")\n",
        "print(country_percent)\n"
      ]
    },
    {
      "cell_type": "code",
      "execution_count": null,
      "id": "f8b0697b",
      "metadata": {
        "id": "f8b0697b",
        "outputId": "0cf7547d-6838-4b0b-ffcc-0fd382b9c5e0"
      },
      "outputs": [
        {
          "name": "stdout",
          "output_type": "stream",
          "text": [
            "Top 5 Popular Products by Transaction Count:\n",
            "Product\n",
            "50% Dark Bites        60\n",
            "Eclairs               60\n",
            "Smooth Sliky Salty    59\n",
            "White Choc            58\n",
            "Drinking Coco         56\n",
            "Name: count, dtype: int64\n"
          ]
        },
        {
          "data": {
            "image/png": "[encoded data removed]",
            "text/plain": [
              "<Figure size 640x480 with 1 Axes>"
            ]
          },
          "metadata": {},
          "output_type": "display_data"
        }
      ],
      "source": [
        "\n",
        "product_popularity = df[\"Product\"].value_counts()\n",
        "\n",
        "\n",
        "top_products = product_popularity.head(5)\n",
        "\n",
        "print(\"Top 5 Popular Products by Transaction Count:\")\n",
        "print(top_products)\n",
        "\n",
        "\n",
        "import seaborn as sns\n",
        "import matplotlib.pyplot as plt\n",
        "\n",
        "sns.barplot(x=top_products.index, y=top_products.values)\n",
        "plt.title(\"Top 5 Most Sold Products\")\n",
        "plt.ylabel(\"Transaction Count\")\n",
        "plt.xticks(rotation=45)\n",
        "plt.show()\n"
      ]
    },
    {
      "cell_type": "code",
      "execution_count": null,
      "id": "1638a494",
      "metadata": {
        "id": "1638a494",
        "outputId": "dd0c8604-f54d-4b6b-f251-8ae5986b6583"
      },
      "outputs": [
        {
          "name": "stdout",
          "output_type": "stream",
          "text": [
            "Error: Total revenue is zero, cannot calculate average revenue per box.\n"
          ]
        }
      ],
      "source": [
        "total_boxes = df[\"Boxes Shipped\"].sum()\n",
        "current_revenue = df[\"Amount\"].sum()\n",
        "\n",
        "\n",
        "if total_boxes == 0:\n",
        "    print(\"Error: Total boxes shipped is zero, cannot calculate average revenue per box.\")\n",
        "elif current_revenue == 0:\n",
        "    print(\"Error: Total revenue is zero, cannot calculate average revenue per box.\")\n",
        "elif pd.isna(total_boxes) or pd.isna(current_revenue):\n",
        "    print(\"Error: Missing or invalid data in boxes shipped or amount columns.\")\n",
        "else:\n",
        "    target_revenue = current_revenue * 1.20\n",
        "    avg_revenue_per_box = current_revenue / total_boxes\n",
        "    additional_boxes = (target_revenue - current_revenue) / avg_revenue_per_box\n",
        "\n",
        "    print(f\"To increase revenue by 20%, the company needs to ship approximately {round(additional_boxes)} more boxes.\")\n",
        "    print(f\"Total Revenue: {current_revenue}\")\n",
        "    print(f\"Total Boxes Shipped: {total_boxes}\")\n"
      ]
    },
    {
      "cell_type": "code",
      "execution_count": null,
      "id": "35e603af",
      "metadata": {
        "id": "35e603af",
        "outputId": "2487cb9a-a0bf-4c98-b7ff-74529267fc06"
      },
      "outputs": [
        {
          "data": {
            "text/html": [
              "<div>\n",
              "<style scoped>\n",
              "    .dataframe tbody tr th:only-of-type {\n",
              "        vertical-align: middle;\n",
              "    }\n",
              "\n",
              "    .dataframe tbody tr th {\n",
              "        vertical-align: top;\n",
              "    }\n",
              "\n",
              "    .dataframe thead th {\n",
              "        text-align: right;\n",
              "    }\n",
              "</style>\n",
              "<table border=\"1\" class=\"dataframe\">\n",
              "  <thead>\n",
              "    <tr style=\"text-align: right;\">\n",
              "      <th></th>\n",
              "      <th>Sales Person</th>\n",
              "      <th>Country</th>\n",
              "      <th>Product</th>\n",
              "      <th>Date</th>\n",
              "      <th>Amount</th>\n",
              "      <th>Boxes Shipped</th>\n",
              "      <th>Month</th>\n",
              "    </tr>\n",
              "  </thead>\n",
              "  <tbody>\n",
              "  </tbody>\n",
              "</table>\n",
              "</div>"
            ],
            "text/plain": [
              "Empty DataFrame\n",
              "Columns: [Sales Person, Country, Product, Date, Amount, Boxes Shipped, Month]\n",
              "Index: []"
            ]
          },
          "execution_count": 5,
          "metadata": {},
          "output_type": "execute_result"
        }
      ],
      "source": [
        "df[\"Amount\"].describe()\n",
        "df[df[\"Amount\"] > 638.20]\n",
        "df[df[\"Amount\"] < 1.00]\n"
      ]
    },
    {
      "cell_type": "code",
      "execution_count": null,
      "id": "12890f17",
      "metadata": {
        "id": "12890f17",
        "outputId": "72a86819-ff2d-4b5a-9aa8-832e8f76a76c"
      },
      "outputs": [
        {
          "data": {
            "text/html": [
              "<div>\n",
              "<style scoped>\n",
              "    .dataframe tbody tr th:only-of-type {\n",
              "        vertical-align: middle;\n",
              "    }\n",
              "\n",
              "    .dataframe tbody tr th {\n",
              "        vertical-align: top;\n",
              "    }\n",
              "\n",
              "    .dataframe thead th {\n",
              "        text-align: right;\n",
              "    }\n",
              "</style>\n",
              "<table border=\"1\" class=\"dataframe\">\n",
              "  <thead>\n",
              "    <tr style=\"text-align: right;\">\n",
              "      <th></th>\n",
              "      <th>Boxes Shipped</th>\n",
              "      <th>Amount</th>\n",
              "    </tr>\n",
              "  </thead>\n",
              "  <tbody>\n",
              "    <tr>\n",
              "      <th>Boxes Shipped</th>\n",
              "      <td>1.0</td>\n",
              "      <td>NaN</td>\n",
              "    </tr>\n",
              "    <tr>\n",
              "      <th>Amount</th>\n",
              "      <td>NaN</td>\n",
              "      <td>NaN</td>\n",
              "    </tr>\n",
              "  </tbody>\n",
              "</table>\n",
              "</div>"
            ],
            "text/plain": [
              "               Boxes Shipped  Amount\n",
              "Boxes Shipped            1.0     NaN\n",
              "Amount                   NaN     NaN"
            ]
          },
          "execution_count": 6,
          "metadata": {},
          "output_type": "execute_result"
        }
      ],
      "source": [
        "df[[\"Boxes Shipped\", \"Amount\"]].corr()\n"
      ]
    },
    {
      "cell_type": "code",
      "execution_count": null,
      "id": "c2cb3b07",
      "metadata": {
        "id": "c2cb3b07",
        "outputId": "cf614e52-ebf9-4994-f90c-0084b5dfca03"
      },
      "outputs": [
        {
          "data": {
            "text/plain": [
              "Sales Person\n",
              "Andria Kimpton         6448\n",
              "Barr Faughny           6366\n",
              "Beverie Moffet         9214\n",
              "Brien Boise            8102\n",
              "Camilla Castle         5374\n",
              "Ches Bonnell           7522\n",
              "Curtice Advani         7074\n",
              "Dennison Crosswaite    8767\n",
              "Dotty Strutley         6853\n",
              "Gigi Bohling           6303\n",
              "Gunar Cockshoot        6677\n",
              "Husein Augar           5849\n",
              "Jan Morforth           7661\n",
              "Jehu Rudeforth         7246\n",
              "Kaine Padly            7253\n",
              "Karlen McCaffrey       9658\n",
              "Kelci Walkden          8702\n",
              "Madelene Upcott        7279\n",
              "Mallorie Waber         5980\n",
              "Marney O'Breen         8043\n",
              "Oby Sorrel             8608\n",
              "Rafaelita Blaksland    4297\n",
              "Roddy Speechley        6899\n",
              "Van Tuxwell            6799\n",
              "Wilone O'Kielt         4033\n",
              "Name: Boxes Shipped, dtype: int64"
            ]
          },
          "execution_count": 7,
          "metadata": {},
          "output_type": "execute_result"
        }
      ],
      "source": [
        "df.groupby(\"Sales Person\")[\"Boxes Shipped\"].sum()\n"
      ]
    },
    {
      "cell_type": "markdown",
      "id": "1f22d6dd",
      "metadata": {
        "id": "1f22d6dd"
      },
      "source": []
    },
    {
      "cell_type": "code",
      "execution_count": null,
      "id": "85467b9a",
      "metadata": {
        "id": "85467b9a",
        "outputId": "c96cbd88-42cc-4546-96de-774264f7fa0d"
      },
      "outputs": [
        {
          "data": {
            "text/plain": [
              "Sales Person        0\n",
              "Country             0\n",
              "Product             0\n",
              "Date                0\n",
              "Amount           1094\n",
              "Boxes Shipped       0\n",
              "Month               0\n",
              "dtype: int64"
            ]
          },
          "execution_count": 8,
          "metadata": {},
          "output_type": "execute_result"
        }
      ],
      "source": [
        "df.isnull().sum()\n"
      ]
    },
    {
      "cell_type": "code",
      "execution_count": null,
      "id": "d0e68117",
      "metadata": {
        "id": "d0e68117",
        "outputId": "f4ae9df7-4dbd-4b51-ce16-718a40720762"
      },
      "outputs": [
        {
          "name": "stdout",
          "output_type": "stream",
          "text": [
            "0   2022-01-04\n",
            "1   2022-08-01\n",
            "2   2022-07-07\n",
            "3   2022-04-27\n",
            "4   2022-02-24\n",
            "Name: Date, dtype: datetime64[ns]\n",
            "datetime64[ns]\n"
          ]
        }
      ],
      "source": [
        "print(df[\"Date\"].head())\n",
        "print(df[\"Date\"].dtype)\n",
        "df[\"Date\"] = pd.to_datetime(df[\"Date\"].astype(str).str.split(\" - \").str[0])\n"
      ]
    },
    {
      "cell_type": "code",
      "execution_count": null,
      "id": "2df6e137",
      "metadata": {
        "id": "2df6e137",
        "outputId": "bed70e7f-feb5-40ca-87c4-74292f08e818"
      },
      "outputs": [
        {
          "data": {
            "text/html": [
              "<div>\n",
              "<style scoped>\n",
              "    .dataframe tbody tr th:only-of-type {\n",
              "        vertical-align: middle;\n",
              "    }\n",
              "\n",
              "    .dataframe tbody tr th {\n",
              "        vertical-align: top;\n",
              "    }\n",
              "\n",
              "    .dataframe thead th {\n",
              "        text-align: right;\n",
              "    }\n",
              "</style>\n",
              "<table border=\"1\" class=\"dataframe\">\n",
              "  <thead>\n",
              "    <tr style=\"text-align: right;\">\n",
              "      <th></th>\n",
              "      <th>Sales Person</th>\n",
              "      <th>Country</th>\n",
              "      <th>Product</th>\n",
              "      <th>Date</th>\n",
              "      <th>Amount</th>\n",
              "      <th>Boxes Shipped</th>\n",
              "      <th>Month</th>\n",
              "    </tr>\n",
              "  </thead>\n",
              "  <tbody>\n",
              "  </tbody>\n",
              "</table>\n",
              "</div>"
            ],
            "text/plain": [
              "Empty DataFrame\n",
              "Columns: [Sales Person, Country, Product, Date, Amount, Boxes Shipped, Month]\n",
              "Index: []"
            ]
          },
          "execution_count": 12,
          "metadata": {},
          "output_type": "execute_result"
        }
      ],
      "source": [
        "df[df[\"Amount\"] < 0]"
      ]
    },
    {
      "cell_type": "code",
      "execution_count": null,
      "id": "7bbd6d76",
      "metadata": {
        "id": "7bbd6d76",
        "outputId": "5cdd42ff-71f9-4161-995f-b6cbf6d6ec17"
      },
      "outputs": [
        {
          "data": {
            "text/plain": [
              "Product\n",
              "50% Dark Bites          5.484461\n",
              "Eclairs                 5.484461\n",
              "Smooth Sliky Salty      5.393053\n",
              "White Choc              5.301645\n",
              "Drinking Coco           5.118830\n",
              "Spicy Special Slims     4.936015\n",
              "Organic Choco Syrup     4.753199\n",
              "After Nines             4.570384\n",
              "85% Dark Bars           4.570384\n",
              "Fruit & Nut Bars        4.570384\n",
              "Milk Bars               4.478976\n",
              "Peanut Butter Cubes     4.478976\n",
              "99% Dark & Pure         4.478976\n",
              "Almond Choco            4.387569\n",
              "Raspberry Choco         4.387569\n",
              "Orange Choco            4.296161\n",
              "Mint Chip Choco         4.113346\n",
              "Manuka Honey Choco      4.113346\n",
              "Caramel Stuffed Bars    3.930530\n",
              "70% Dark Bites          3.839122\n",
              "Baker's Choco Chips     3.747715\n",
              "Choco Coated Almonds    3.564899\n",
              "Name: proportion, dtype: float64"
            ]
          },
          "execution_count": 13,
          "metadata": {},
          "output_type": "execute_result"
        }
      ],
      "source": [
        "df[\"Country\"].value_counts(normalize=True) * 100\n",
        "df[\"Product\"].value_counts(normalize=True) * 100\n"
      ]
    },
    {
      "cell_type": "code",
      "execution_count": null,
      "id": "7dfe9360",
      "metadata": {
        "id": "7dfe9360",
        "outputId": "8c653715-1ce3-40a0-8b54-0e7fe566377f"
      },
      "outputs": [
        {
          "data": {
            "text/plain": [
              "0"
            ]
          },
          "execution_count": 14,
          "metadata": {},
          "output_type": "execute_result"
        }
      ],
      "source": [
        "df.duplicated(subset=[\"Sales Person\", \"Date\", \"Product\", \"Amount\", \"Boxes Shipped\"]).sum()\n"
      ]
    },
    {
      "cell_type": "code",
      "execution_count": null,
      "id": "24303411",
      "metadata": {
        "id": "24303411",
        "outputId": "51f86c1a-97bf-43bb-ecd9-9068982949f3"
      },
      "outputs": [
        {
          "data": {
            "text/plain": [
              "<Axes: xlabel='Month'>"
            ]
          },
          "execution_count": 15,
          "metadata": {},
          "output_type": "execute_result"
        },
        {
          "data": {
            "image/png": "[encoded data removed]",
            "text/plain": [
              "<Figure size 640x480 with 1 Axes>"
            ]
          },
          "metadata": {},
          "output_type": "display_data"
        }
      ],
      "source": [
        "df['Month'] = df[\"Date\"].dt.month\n",
        "df[\"Month\"].value_counts().sort_index().plot(kind=\"bar\")\n"
      ]
    },
    {
      "cell_type": "code",
      "execution_count": null,
      "id": "1dc1543d",
      "metadata": {
        "id": "1dc1543d"
      },
      "outputs": [],
      "source": [
        "from sklearn.model_selection import train_test_split\n",
        "from sklearn.metrics import accuracy_score, classification_report\n",
        "from sklearn.neighbors import KNeighborsClassifier\n",
        "from sklearn.tree import DecisionTreeClassifier\n",
        "from sklearn.linear_model import LogisticRegression\n",
        "from sklearn.ensemble import RandomForestClassifier\n"
      ]
    },
    {
      "cell_type": "code",
      "execution_count": null,
      "id": "b1453a1c",
      "metadata": {
        "id": "b1453a1c",
        "outputId": "cb8fa6b8-fc33-448b-a038-4f9f96816d29"
      },
      "outputs": [
        {
          "name": "stdout",
          "output_type": "stream",
          "text": [
            "Number of 'Other' entries in Country: 0\n",
            "Number of 'Other' entries in Product: 0\n"
          ]
        }
      ],
      "source": [
        "import pandas as pd\n",
        "df = pd.read_csv('Chocolate Sales.csv')\n",
        "df.head()\n",
        "country_other_count = df[df['Country'].str.lower() == 'other'].shape[0]\n",
        "product_other_count = df[df['Product'].str.lower() == 'other'].shape[0]\n",
        "print(f\"Number of 'Other' entries in Country: {country_other_count}\")\n",
        "print(f\"Number of 'Other' entries in Product: {product_other_count}\")\n"
      ]
    },
    {
      "cell_type": "code",
      "execution_count": null,
      "id": "51f3e5e9",
      "metadata": {
        "id": "51f3e5e9",
        "outputId": "dc35743a-f9ea-4988-ee90-3cbaccb75512"
      },
      "outputs": [
        {
          "name": "stdout",
          "output_type": "stream",
          "text": [
            "KNN - Accuracy: 0.98, Precision: 0.98, Recall: 1.00\n",
            "Decision Tree - Accuracy: 0.93, Precision: 0.98, Recall: 0.94\n",
            "Logistic Regression - Accuracy: 0.98, Precision: 0.98, Recall: 1.00\n",
            "Random Forest - Accuracy: 0.96, Precision: 0.98, Recall: 0.98\n"
          ]
        }
      ],
      "source": [
        "from sklearn.model_selection import train_test_split\n",
        "from sklearn.preprocessing import LabelEncoder\n",
        "from sklearn.neighbors import KNeighborsClassifier\n",
        "from sklearn.tree import DecisionTreeClassifier\n",
        "from sklearn.linear_model import LogisticRegression\n",
        "from sklearn.ensemble import RandomForestClassifier\n",
        "from sklearn.metrics import accuracy_score, precision_score, recall_score\n",
        "df['Amount'] = df['Amount'].replace(r'[\\$,]', '', regex=True).astype(float)\n",
        "df['Revenue_Class'] = (df['Amount'] > 355).astype(int)\n",
        "le = LabelEncoder()\n",
        "df['Sales Person'] = le.fit_transform(df['Sales Person'])\n",
        "df['Country'] = le.fit_transform(df['Country'])\n",
        "df['Product'] = le.fit_transform(df['Product'])\n",
        "X = df[['Boxes Shipped', 'Country', 'Product']]\n",
        "y = df['Revenue_Class']\n",
        "X_train, X_test, y_train, y_test = train_test_split(X, y, test_size=0.2, random_state=42)\n",
        "models = {\n",
        "    'KNN': KNeighborsClassifier(n_neighbors=5),\n",
        "    'Decision Tree': DecisionTreeClassifier(random_state=42),\n",
        "    'Logistic Regression': LogisticRegression(max_iter=1000),\n",
        "    'Random Forest': RandomForestClassifier(random_state=42)\n",
        "}\n",
        "for name, model in models.items():\n",
        "    model.fit(X_train, y_train)\n",
        "    y_pred = model.predict(X_test)\n",
        "    accuracy = accuracy_score(y_test, y_pred)\n",
        "    precision = precision_score(y_test, y_pred)\n",
        "    recall = recall_score(y_test, y_pred)\n",
        "    print(f\"{name} - Accuracy: {accuracy:.2f}, Precision: {precision:.2f}, Recall: {recall:.2f}\")\n"
      ]
    },
    {
      "cell_type": "code",
      "execution_count": null,
      "id": "779fc9b9",
      "metadata": {
        "id": "779fc9b9",
        "outputId": "c43b1159-d5bd-4a46-949d-8f1507938316"
      },
      "outputs": [
        {
          "name": "stdout",
          "output_type": "stream",
          "text": [
            "Best Parameters: {'max_depth': None, 'n_estimators': 100}\n",
            "Best Accuracy from Cross-Validation: 0.9611440631423686\n",
            "Tuned Random Forest - Accuracy: 0.96, Precision: 0.98, Recall: 0.98\n"
          ]
        }
      ],
      "source": [
        "from sklearn.model_selection import GridSearchCV\n",
        "\n",
        "\n",
        "param_grid = {\n",
        "    'n_estimators': [50, 100, 200],\n",
        "    'max_depth': [None, 10, 20, 30]\n",
        "}\n",
        "\n",
        "rf = RandomForestClassifier(random_state=42)\n",
        "grid_search = GridSearchCV(rf, param_grid, cv=3, scoring='accuracy')\n",
        "grid_search.fit(X_train, y_train)\n",
        "\n",
        "print(\"Best Parameters:\", grid_search.best_params_)\n",
        "print(\"Best Accuracy from Cross-Validation:\", grid_search.best_score_)\n",
        "best_rf = grid_search.best_estimator_\n",
        "y_pred = best_rf.predict(X_test)\n",
        "\n",
        "accuracy = accuracy_score(y_test, y_pred)\n",
        "precision = precision_score(y_test, y_pred)\n",
        "recall = recall_score(y_test, y_pred)\n",
        "\n",
        "print(f\"Tuned Random Forest - Accuracy: {accuracy:.2f}, Precision: {precision:.2f}, Recall: {recall:.2f}\")\n"
      ]
    },
    {
      "cell_type": "code",
      "execution_count": null,
      "id": "9c19c562",
      "metadata": {
        "id": "9c19c562"
      },
      "outputs": [],
      "source": [
        "X = df[[\"Boxes Shipped\", \"Country\", \"Product\"]]\n",
        "y = df[\"Revenue_Category\"]\n",
        "X_train, X_test, y_train, y_test = train_test_split(X, y, test_size=0.2, random_state=42)\n"
      ]
    },
    {
      "cell_type": "code",
      "execution_count": null,
      "id": "a28e4389",
      "metadata": {
        "id": "a28e4389",
        "outputId": "bc033822-e630-4d83-ea28-59493c721543"
      },
      "outputs": [
        {
          "name": "stdout",
          "output_type": "stream",
          "text": [
            "              precision    recall  f1-score   support\n",
            "\n",
            "         Low       1.00      1.00      1.00       219\n",
            "\n",
            "    accuracy                           1.00       219\n",
            "   macro avg       1.00      1.00      1.00       219\n",
            "weighted avg       1.00      1.00      1.00       219\n",
            "\n"
          ]
        }
      ],
      "source": [
        "model = KNeighborsClassifier(n_neighbors=5)\n",
        "model.fit(X_train, y_train)\n",
        "y_pred = model.predict(X_test)\n",
        "print(classification_report(y_test, y_pred))\n"
      ]
    },
    {
      "cell_type": "code",
      "execution_count": null,
      "id": "9729c17e",
      "metadata": {
        "id": "9729c17e",
        "outputId": "990da2d7-d60a-4d2e-fdf3-ec7fa8be2306"
      },
      "outputs": [
        {
          "data": {
            "text/html": [
              "<style>#sk-container-id-1 {\n",
              "  /* Definition of color scheme common for light and dark mode */\n",
              "  --sklearn-color-text: black;\n",
              "  --sklearn-color-line: gray;\n",
              "  /* Definition of color scheme for unfitted estimators */\n",
              "  --sklearn-color-unfitted-level-0: #fff5e6;\n",
              "  --sklearn-color-unfitted-level-1: #f6e4d2;\n",
              "  --sklearn-color-unfitted-level-2: #ffe0b3;\n",
              "  --sklearn-color-unfitted-level-3: chocolate;\n",
              "  /* Definition of color scheme for fitted estimators */\n",
              "  --sklearn-color-fitted-level-0: #f0f8ff;\n",
              "  --sklearn-color-fitted-level-1: #d4ebff;\n",
              "  --sklearn-color-fitted-level-2: #b3dbfd;\n",
              "  --sklearn-color-fitted-level-3: cornflowerblue;\n",
              "\n",
              "  /* Specific color for light theme */\n",
              "  --sklearn-color-text-on-default-background: var(--sg-text-color, var(--theme-code-foreground, var(--jp-content-font-color1, black)));\n",
              "  --sklearn-color-background: var(--sg-background-color, var(--theme-background, var(--jp-layout-color0, white)));\n",
              "  --sklearn-color-border-box: var(--sg-text-color, var(--theme-code-foreground, var(--jp-content-font-color1, black)));\n",
              "  --sklearn-color-icon: #696969;\n",
              "\n",
              "  @media (prefers-color-scheme: dark) {\n",
              "    /* Redefinition of color scheme for dark theme */\n",
              "    --sklearn-color-text-on-default-background: var(--sg-text-color, var(--theme-code-foreground, var(--jp-content-font-color1, white)));\n",
              "    --sklearn-color-background: var(--sg-background-color, var(--theme-background, var(--jp-layout-color0, #111)));\n",
              "    --sklearn-color-border-box: var(--sg-text-color, var(--theme-code-foreground, var(--jp-content-font-color1, white)));\n",
              "    --sklearn-color-icon: #878787;\n",
              "  }\n",
              "}\n",
              "\n",
              "#sk-container-id-1 {\n",
              "  color: var(--sklearn-color-text);\n",
              "}\n",
              "\n",
              "#sk-container-id-1 pre {\n",
              "  padding: 0;\n",
              "}\n",
              "\n",
              "#sk-container-id-1 input.sk-hidden--visually {\n",
              "  border: 0;\n",
              "  clip: rect(1px 1px 1px 1px);\n",
              "  clip: rect(1px, 1px, 1px, 1px);\n",
              "  height: 1px;\n",
              "  margin: -1px;\n",
              "  overflow: hidden;\n",
              "  padding: 0;\n",
              "  position: absolute;\n",
              "  width: 1px;\n",
              "}\n",
              "\n",
              "#sk-container-id-1 div.sk-dashed-wrapped {\n",
              "  border: 1px dashed var(--sklearn-color-line);\n",
              "  margin: 0 0.4em 0.5em 0.4em;\n",
              "  box-sizing: border-box;\n",
              "  padding-bottom: 0.4em;\n",
              "  background-color: var(--sklearn-color-background);\n",
              "}\n",
              "\n",
              "#sk-container-id-1 div.sk-container {\n",
              "  /* jupyter's `normalize.less` sets `[hidden] { display: none; }`\n",
              "     but bootstrap.min.css set `[hidden] { display: none !important; }`\n",
              "     so we also need the `!important` here to be able to override the\n",
              "     default hidden behavior on the sphinx rendered scikit-learn.org.\n",
              "     See: https://github.com/scikit-learn/scikit-learn/issues/21755 */\n",
              "  display: inline-block !important;\n",
              "  position: relative;\n",
              "}\n",
              "\n",
              "#sk-container-id-1 div.sk-text-repr-fallback {\n",
              "  display: none;\n",
              "}\n",
              "\n",
              "div.sk-parallel-item,\n",
              "div.sk-serial,\n",
              "div.sk-item {\n",
              "  /* draw centered vertical line to link estimators */\n",
              "  background-image: linear-gradient(var(--sklearn-color-text-on-default-background), var(--sklearn-color-text-on-default-background));\n",
              "  background-size: 2px 100%;\n",
              "  background-repeat: no-repeat;\n",
              "  background-position: center center;\n",
              "}\n",
              "\n",
              "/* Parallel-specific style estimator block */\n",
              "\n",
              "#sk-container-id-1 div.sk-parallel-item::after {\n",
              "  content: \"\";\n",
              "  width: 100%;\n",
              "  border-bottom: 2px solid var(--sklearn-color-text-on-default-background);\n",
              "  flex-grow: 1;\n",
              "}\n",
              "\n",
              "#sk-container-id-1 div.sk-parallel {\n",
              "  display: flex;\n",
              "  align-items: stretch;\n",
              "  justify-content: center;\n",
              "  background-color: var(--sklearn-color-background);\n",
              "  position: relative;\n",
              "}\n",
              "\n",
              "#sk-container-id-1 div.sk-parallel-item {\n",
              "  display: flex;\n",
              "  flex-direction: column;\n",
              "}\n",
              "\n",
              "#sk-container-id-1 div.sk-parallel-item:first-child::after {\n",
              "  align-self: flex-end;\n",
              "  width: 50%;\n",
              "}\n",
              "\n",
              "#sk-container-id-1 div.sk-parallel-item:last-child::after {\n",
              "  align-self: flex-start;\n",
              "  width: 50%;\n",
              "}\n",
              "\n",
              "#sk-container-id-1 div.sk-parallel-item:only-child::after {\n",
              "  width: 0;\n",
              "}\n",
              "\n",
              "/* Serial-specific style estimator block */\n",
              "\n",
              "#sk-container-id-1 div.sk-serial {\n",
              "  display: flex;\n",
              "  flex-direction: column;\n",
              "  align-items: center;\n",
              "  background-color: var(--sklearn-color-background);\n",
              "  padding-right: 1em;\n",
              "  padding-left: 1em;\n",
              "}\n",
              "\n",
              "\n",
              "/* Toggleable style: style used for estimator/Pipeline/ColumnTransformer box that is\n",
              "clickable and can be expanded/collapsed.\n",
              "- Pipeline and ColumnTransformer use this feature and define the default style\n",
              "- Estimators will overwrite some part of the style using the `sk-estimator` class\n",
              "*/\n",
              "\n",
              "/* Pipeline and ColumnTransformer style (default) */\n",
              "\n",
              "#sk-container-id-1 div.sk-toggleable {\n",
              "  /* Default theme specific background. It is overwritten whether we have a\n",
              "  specific estimator or a Pipeline/ColumnTransformer */\n",
              "  background-color: var(--sklearn-color-background);\n",
              "}\n",
              "\n",
              "/* Toggleable label */\n",
              "#sk-container-id-1 label.sk-toggleable__label {\n",
              "  cursor: pointer;\n",
              "  display: block;\n",
              "  width: 100%;\n",
              "  margin-bottom: 0;\n",
              "  padding: 0.5em;\n",
              "  box-sizing: border-box;\n",
              "  text-align: center;\n",
              "}\n",
              "\n",
              "#sk-container-id-1 label.sk-toggleable__label-arrow:before {\n",
              "  /* Arrow on the left of the label */\n",
              "  content: \"▸\";\n",
              "  float: left;\n",
              "  margin-right: 0.25em;\n",
              "  color: var(--sklearn-color-icon);\n",
              "}\n",
              "\n",
              "#sk-container-id-1 label.sk-toggleable__label-arrow:hover:before {\n",
              "  color: var(--sklearn-color-text);\n",
              "}\n",
              "\n",
              "/* Toggleable content - dropdown */\n",
              "\n",
              "#sk-container-id-1 div.sk-toggleable__content {\n",
              "  max-height: 0;\n",
              "  max-width: 0;\n",
              "  overflow: hidden;\n",
              "  text-align: left;\n",
              "  /* unfitted */\n",
              "  background-color: var(--sklearn-color-unfitted-level-0);\n",
              "}\n",
              "\n",
              "#sk-container-id-1 div.sk-toggleable__content.fitted {\n",
              "  /* fitted */\n",
              "  background-color: var(--sklearn-color-fitted-level-0);\n",
              "}\n",
              "\n",
              "#sk-container-id-1 div.sk-toggleable__content pre {\n",
              "  margin: 0.2em;\n",
              "  border-radius: 0.25em;\n",
              "  color: var(--sklearn-color-text);\n",
              "  /* unfitted */\n",
              "  background-color: var(--sklearn-color-unfitted-level-0);\n",
              "}\n",
              "\n",
              "#sk-container-id-1 div.sk-toggleable__content.fitted pre {\n",
              "  /* unfitted */\n",
              "  background-color: var(--sklearn-color-fitted-level-0);\n",
              "}\n",
              "\n",
              "#sk-container-id-1 input.sk-toggleable__control:checked~div.sk-toggleable__content {\n",
              "  /* Expand drop-down */\n",
              "  max-height: 200px;\n",
              "  max-width: 100%;\n",
              "  overflow: auto;\n",
              "}\n",
              "\n",
              "#sk-container-id-1 input.sk-toggleable__control:checked~label.sk-toggleable__label-arrow:before {\n",
              "  content: \"▾\";\n",
              "}\n",
              "\n",
              "/* Pipeline/ColumnTransformer-specific style */\n",
              "\n",
              "#sk-container-id-1 div.sk-label input.sk-toggleable__control:checked~label.sk-toggleable__label {\n",
              "  color: var(--sklearn-color-text);\n",
              "  background-color: var(--sklearn-color-unfitted-level-2);\n",
              "}\n",
              "\n",
              "#sk-container-id-1 div.sk-label.fitted input.sk-toggleable__control:checked~label.sk-toggleable__label {\n",
              "  background-color: var(--sklearn-color-fitted-level-2);\n",
              "}\n",
              "\n",
              "/* Estimator-specific style */\n",
              "\n",
              "/* Colorize estimator box */\n",
              "#sk-container-id-1 div.sk-estimator input.sk-toggleable__control:checked~label.sk-toggleable__label {\n",
              "  /* unfitted */\n",
              "  background-color: var(--sklearn-color-unfitted-level-2);\n",
              "}\n",
              "\n",
              "#sk-container-id-1 div.sk-estimator.fitted input.sk-toggleable__control:checked~label.sk-toggleable__label {\n",
              "  /* fitted */\n",
              "  background-color: var(--sklearn-color-fitted-level-2);\n",
              "}\n",
              "\n",
              "#sk-container-id-1 div.sk-label label.sk-toggleable__label,\n",
              "#sk-container-id-1 div.sk-label label {\n",
              "  /* The background is the default theme color */\n",
              "  color: var(--sklearn-color-text-on-default-background);\n",
              "}\n",
              "\n",
              "/* On hover, darken the color of the background */\n",
              "#sk-container-id-1 div.sk-label:hover label.sk-toggleable__label {\n",
              "  color: var(--sklearn-color-text);\n",
              "  background-color: var(--sklearn-color-unfitted-level-2);\n",
              "}\n",
              "\n",
              "/* Label box, darken color on hover, fitted */\n",
              "#sk-container-id-1 div.sk-label.fitted:hover label.sk-toggleable__label.fitted {\n",
              "  color: var(--sklearn-color-text);\n",
              "  background-color: var(--sklearn-color-fitted-level-2);\n",
              "}\n",
              "\n",
              "/* Estimator label */\n",
              "\n",
              "#sk-container-id-1 div.sk-label label {\n",
              "  font-family: monospace;\n",
              "  font-weight: bold;\n",
              "  display: inline-block;\n",
              "  line-height: 1.2em;\n",
              "}\n",
              "\n",
              "#sk-container-id-1 div.sk-label-container {\n",
              "  text-align: center;\n",
              "}\n",
              "\n",
              "/* Estimator-specific */\n",
              "#sk-container-id-1 div.sk-estimator {\n",
              "  font-family: monospace;\n",
              "  border: 1px dotted var(--sklearn-color-border-box);\n",
              "  border-radius: 0.25em;\n",
              "  box-sizing: border-box;\n",
              "  margin-bottom: 0.5em;\n",
              "  /* unfitted */\n",
              "  background-color: var(--sklearn-color-unfitted-level-0);\n",
              "}\n",
              "\n",
              "#sk-container-id-1 div.sk-estimator.fitted {\n",
              "  /* fitted */\n",
              "  background-color: var(--sklearn-color-fitted-level-0);\n",
              "}\n",
              "\n",
              "/* on hover */\n",
              "#sk-container-id-1 div.sk-estimator:hover {\n",
              "  /* unfitted */\n",
              "  background-color: var(--sklearn-color-unfitted-level-2);\n",
              "}\n",
              "\n",
              "#sk-container-id-1 div.sk-estimator.fitted:hover {\n",
              "  /* fitted */\n",
              "  background-color: var(--sklearn-color-fitted-level-2);\n",
              "}\n",
              "\n",
              "/* Specification for estimator info (e.g. \"i\" and \"?\") */\n",
              "\n",
              "/* Common style for \"i\" and \"?\" */\n",
              "\n",
              ".sk-estimator-doc-link,\n",
              "a:link.sk-estimator-doc-link,\n",
              "a:visited.sk-estimator-doc-link {\n",
              "  float: right;\n",
              "  font-size: smaller;\n",
              "  line-height: 1em;\n",
              "  font-family: monospace;\n",
              "  background-color: var(--sklearn-color-background);\n",
              "  border-radius: 1em;\n",
              "  height: 1em;\n",
              "  width: 1em;\n",
              "  text-decoration: none !important;\n",
              "  margin-left: 1ex;\n",
              "  /* unfitted */\n",
              "  border: var(--sklearn-color-unfitted-level-1) 1pt solid;\n",
              "  color: var(--sklearn-color-unfitted-level-1);\n",
              "}\n",
              "\n",
              ".sk-estimator-doc-link.fitted,\n",
              "a:link.sk-estimator-doc-link.fitted,\n",
              "a:visited.sk-estimator-doc-link.fitted {\n",
              "  /* fitted */\n",
              "  border: var(--sklearn-color-fitted-level-1) 1pt solid;\n",
              "  color: var(--sklearn-color-fitted-level-1);\n",
              "}\n",
              "\n",
              "/* On hover */\n",
              "div.sk-estimator:hover .sk-estimator-doc-link:hover,\n",
              ".sk-estimator-doc-link:hover,\n",
              "div.sk-label-container:hover .sk-estimator-doc-link:hover,\n",
              ".sk-estimator-doc-link:hover {\n",
              "  /* unfitted */\n",
              "  background-color: var(--sklearn-color-unfitted-level-3);\n",
              "  color: var(--sklearn-color-background);\n",
              "  text-decoration: none;\n",
              "}\n",
              "\n",
              "div.sk-estimator.fitted:hover .sk-estimator-doc-link.fitted:hover,\n",
              ".sk-estimator-doc-link.fitted:hover,\n",
              "div.sk-label-container:hover .sk-estimator-doc-link.fitted:hover,\n",
              ".sk-estimator-doc-link.fitted:hover {\n",
              "  /* fitted */\n",
              "  background-color: var(--sklearn-color-fitted-level-3);\n",
              "  color: var(--sklearn-color-background);\n",
              "  text-decoration: none;\n",
              "}\n",
              "\n",
              "/* Span, style for the box shown on hovering the info icon */\n",
              ".sk-estimator-doc-link span {\n",
              "  display: none;\n",
              "  z-index: 9999;\n",
              "  position: relative;\n",
              "  font-weight: normal;\n",
              "  right: .2ex;\n",
              "  padding: .5ex;\n",
              "  margin: .5ex;\n",
              "  width: min-content;\n",
              "  min-width: 20ex;\n",
              "  max-width: 50ex;\n",
              "  color: var(--sklearn-color-text);\n",
              "  box-shadow: 2pt 2pt 4pt #999;\n",
              "  /* unfitted */\n",
              "  background: var(--sklearn-color-unfitted-level-0);\n",
              "  border: .5pt solid var(--sklearn-color-unfitted-level-3);\n",
              "}\n",
              "\n",
              ".sk-estimator-doc-link.fitted span {\n",
              "  /* fitted */\n",
              "  background: var(--sklearn-color-fitted-level-0);\n",
              "  border: var(--sklearn-color-fitted-level-3);\n",
              "}\n",
              "\n",
              ".sk-estimator-doc-link:hover span {\n",
              "  display: block;\n",
              "}\n",
              "\n",
              "/* \"?\"-specific style due to the `<a>` HTML tag */\n",
              "\n",
              "#sk-container-id-1 a.estimator_doc_link {\n",
              "  float: right;\n",
              "  font-size: 1rem;\n",
              "  line-height: 1em;\n",
              "  font-family: monospace;\n",
              "  background-color: var(--sklearn-color-background);\n",
              "  border-radius: 1rem;\n",
              "  height: 1rem;\n",
              "  width: 1rem;\n",
              "  text-decoration: none;\n",
              "  /* unfitted */\n",
              "  color: var(--sklearn-color-unfitted-level-1);\n",
              "  border: var(--sklearn-color-unfitted-level-1) 1pt solid;\n",
              "}\n",
              "\n",
              "#sk-container-id-1 a.estimator_doc_link.fitted {\n",
              "  /* fitted */\n",
              "  border: var(--sklearn-color-fitted-level-1) 1pt solid;\n",
              "  color: var(--sklearn-color-fitted-level-1);\n",
              "}\n",
              "\n",
              "/* On hover */\n",
              "#sk-container-id-1 a.estimator_doc_link:hover {\n",
              "  /* unfitted */\n",
              "  background-color: var(--sklearn-color-unfitted-level-3);\n",
              "  color: var(--sklearn-color-background);\n",
              "  text-decoration: none;\n",
              "}\n",
              "\n",
              "#sk-container-id-1 a.estimator_doc_link.fitted:hover {\n",
              "  /* fitted */\n",
              "  background-color: var(--sklearn-color-fitted-level-3);\n",
              "}\n",
              "</style><div id=\"sk-container-id-1\" class=\"sk-top-container\"><div class=\"sk-text-repr-fallback\"><pre>RandomForestClassifier(max_depth=10)</pre><b>In a Jupyter environment, please rerun this cell to show the HTML representation or trust the notebook. <br />On GitHub, the HTML representation is unable to render, please try loading this page with nbviewer.org.</b></div><div class=\"sk-container\" hidden><div class=\"sk-item\"><div class=\"sk-estimator  sk-toggleable\"><input class=\"sk-toggleable__control sk-hidden--visually\" id=\"sk-estimator-id-1\" type=\"checkbox\" checked><label for=\"sk-estimator-id-1\" class=\"sk-toggleable__label  sk-toggleable__label-arrow \">&nbsp;&nbsp;RandomForestClassifier<a class=\"sk-estimator-doc-link \" rel=\"noreferrer\" target=\"_blank\" href=\"https://scikit-learn.org/1.5/modules/generated/sklearn.ensemble.RandomForestClassifier.html\">?<span>Documentation for RandomForestClassifier</span></a><span class=\"sk-estimator-doc-link \">i<span>Not fitted</span></span></label><div class=\"sk-toggleable__content \"><pre>RandomForestClassifier(max_depth=10)</pre></div> </div></div></div></div>"
            ],
            "text/plain": [
              "RandomForestClassifier(max_depth=10)"
            ]
          },
          "execution_count": 24,
          "metadata": {},
          "output_type": "execute_result"
        }
      ],
      "source": [
        "RandomForestClassifier(n_estimators=100, max_depth=10)\n"
      ]
    },
    {
      "cell_type": "code",
      "execution_count": null,
      "id": "4e1c60c7",
      "metadata": {
        "id": "4e1c60c7"
      },
      "outputs": [],
      "source": [
        "import os\n",
        "os.environ[\"OMP_NUM_THREADS\"] = \"5\"\n",
        "import warnings\n",
        "warnings.filterwarnings(\"ignore\", message=\"KMeans is known to have a memory leak on Windows with MKL\")\n",
        "\n",
        "from sklearn.cluster import KMeans\n",
        "\n",
        "kmeans = KMeans(n_clusters=3)\n",
        "df[\"Cluster\"] = kmeans.fit_predict(X)\n"
      ]
    }
  ],
  "metadata": {
    "kernelspec": {
      "display_name": "base",
      "language": "python",
      "name": "python3"
    },
    "language_info": {
      "codemirror_mode": {
        "name": "ipython",
        "version": 3
      },
      "file_extension": ".py",
      "mimetype": "text/x-python",
      "name": "python",
      "nbconvert_exporter": "python",
      "pygments_lexer": "ipython3",
      "version": "3.12.7"
    },
    "colab": {
      "provenance": []
    }
  },
  "nbformat": 4,
  "nbformat_minor": 5
}